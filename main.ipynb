{
 "cells": [
  {
   "cell_type": "markdown",
   "metadata": {},
   "source": [
    "## 1. Imports"
   ]
  },
  {
   "cell_type": "code",
   "execution_count": 242,
   "metadata": {},
   "outputs": [],
   "source": [
    "import pandas as pd\n",
    "import numpy as np\n",
    "\n",
    "from collections import defaultdict\n",
    "\n",
    "import matplotlib.pyplot as plt\n",
    "import seaborn as sns\n",
    "\n",
    "from sklearn.preprocessing import (\n",
    "    MinMaxScaler,\n",
    "    StandardScaler\n",
    ")"
   ]
  },
  {
   "cell_type": "markdown",
   "metadata": {},
   "source": [
    "\n",
    "## 2. Dataset"
   ]
  },
  {
   "cell_type": "code",
   "execution_count": 39,
   "metadata": {},
   "outputs": [
    {
     "data": {
      "text/html": [
       "<div>\n",
       "<style scoped>\n",
       "    .dataframe tbody tr th:only-of-type {\n",
       "        vertical-align: middle;\n",
       "    }\n",
       "\n",
       "    .dataframe tbody tr th {\n",
       "        vertical-align: top;\n",
       "    }\n",
       "\n",
       "    .dataframe thead th {\n",
       "        text-align: right;\n",
       "    }\n",
       "</style>\n",
       "<table border=\"1\" class=\"dataframe\">\n",
       "  <thead>\n",
       "    <tr style=\"text-align: right;\">\n",
       "      <th></th>\n",
       "      <th>0</th>\n",
       "      <th>1</th>\n",
       "      <th>2</th>\n",
       "      <th>3</th>\n",
       "      <th>4</th>\n",
       "      <th>5</th>\n",
       "      <th>6</th>\n",
       "      <th>7</th>\n",
       "      <th>8</th>\n",
       "      <th>9</th>\n",
       "      <th>...</th>\n",
       "      <th>178</th>\n",
       "      <th>179</th>\n",
       "      <th>180</th>\n",
       "      <th>181</th>\n",
       "      <th>182</th>\n",
       "      <th>183</th>\n",
       "      <th>184</th>\n",
       "      <th>185</th>\n",
       "      <th>186</th>\n",
       "      <th>class</th>\n",
       "    </tr>\n",
       "  </thead>\n",
       "  <tbody>\n",
       "    <tr>\n",
       "      <th>0</th>\n",
       "      <td>0.977343</td>\n",
       "      <td>0.651690</td>\n",
       "      <td>0.157834</td>\n",
       "      <td>0.043395</td>\n",
       "      <td>0.097926</td>\n",
       "      <td>0.159370</td>\n",
       "      <td>0.141321</td>\n",
       "      <td>0.130952</td>\n",
       "      <td>0.132488</td>\n",
       "      <td>0.129032</td>\n",
       "      <td>...</td>\n",
       "      <td>0.0</td>\n",
       "      <td>0.0</td>\n",
       "      <td>0.0</td>\n",
       "      <td>0.0</td>\n",
       "      <td>0.0</td>\n",
       "      <td>0.0</td>\n",
       "      <td>0.0</td>\n",
       "      <td>0.0</td>\n",
       "      <td>0.0</td>\n",
       "      <td>0.0</td>\n",
       "    </tr>\n",
       "    <tr>\n",
       "      <th>1</th>\n",
       "      <td>0.948727</td>\n",
       "      <td>0.895979</td>\n",
       "      <td>0.554777</td>\n",
       "      <td>0.319439</td>\n",
       "      <td>0.191442</td>\n",
       "      <td>0.108078</td>\n",
       "      <td>0.055330</td>\n",
       "      <td>0.054592</td>\n",
       "      <td>0.046477</td>\n",
       "      <td>0.037256</td>\n",
       "      <td>...</td>\n",
       "      <td>0.0</td>\n",
       "      <td>0.0</td>\n",
       "      <td>0.0</td>\n",
       "      <td>0.0</td>\n",
       "      <td>0.0</td>\n",
       "      <td>0.0</td>\n",
       "      <td>0.0</td>\n",
       "      <td>0.0</td>\n",
       "      <td>0.0</td>\n",
       "      <td>1.0</td>\n",
       "    </tr>\n",
       "    <tr>\n",
       "      <th>2</th>\n",
       "      <td>1.000000</td>\n",
       "      <td>0.788079</td>\n",
       "      <td>0.691317</td>\n",
       "      <td>0.631347</td>\n",
       "      <td>0.521707</td>\n",
       "      <td>0.444444</td>\n",
       "      <td>0.381898</td>\n",
       "      <td>0.322296</td>\n",
       "      <td>0.231788</td>\n",
       "      <td>0.276674</td>\n",
       "      <td>...</td>\n",
       "      <td>0.0</td>\n",
       "      <td>0.0</td>\n",
       "      <td>0.0</td>\n",
       "      <td>0.0</td>\n",
       "      <td>0.0</td>\n",
       "      <td>0.0</td>\n",
       "      <td>0.0</td>\n",
       "      <td>0.0</td>\n",
       "      <td>0.0</td>\n",
       "      <td>1.0</td>\n",
       "    </tr>\n",
       "    <tr>\n",
       "      <th>3</th>\n",
       "      <td>1.000000</td>\n",
       "      <td>0.510154</td>\n",
       "      <td>0.129846</td>\n",
       "      <td>0.132923</td>\n",
       "      <td>0.189538</td>\n",
       "      <td>0.195692</td>\n",
       "      <td>0.193231</td>\n",
       "      <td>0.174154</td>\n",
       "      <td>0.195692</td>\n",
       "      <td>0.179692</td>\n",
       "      <td>...</td>\n",
       "      <td>0.0</td>\n",
       "      <td>0.0</td>\n",
       "      <td>0.0</td>\n",
       "      <td>0.0</td>\n",
       "      <td>0.0</td>\n",
       "      <td>0.0</td>\n",
       "      <td>0.0</td>\n",
       "      <td>0.0</td>\n",
       "      <td>0.0</td>\n",
       "      <td>1.0</td>\n",
       "    </tr>\n",
       "    <tr>\n",
       "      <th>4</th>\n",
       "      <td>1.000000</td>\n",
       "      <td>0.716685</td>\n",
       "      <td>0.418721</td>\n",
       "      <td>0.136835</td>\n",
       "      <td>0.037156</td>\n",
       "      <td>0.011075</td>\n",
       "      <td>0.127188</td>\n",
       "      <td>0.178992</td>\n",
       "      <td>0.232940</td>\n",
       "      <td>0.242229</td>\n",
       "      <td>...</td>\n",
       "      <td>0.0</td>\n",
       "      <td>0.0</td>\n",
       "      <td>0.0</td>\n",
       "      <td>0.0</td>\n",
       "      <td>0.0</td>\n",
       "      <td>0.0</td>\n",
       "      <td>0.0</td>\n",
       "      <td>0.0</td>\n",
       "      <td>0.0</td>\n",
       "      <td>1.0</td>\n",
       "    </tr>\n",
       "    <tr>\n",
       "      <th>...</th>\n",
       "      <td>...</td>\n",
       "      <td>...</td>\n",
       "      <td>...</td>\n",
       "      <td>...</td>\n",
       "      <td>...</td>\n",
       "      <td>...</td>\n",
       "      <td>...</td>\n",
       "      <td>...</td>\n",
       "      <td>...</td>\n",
       "      <td>...</td>\n",
       "      <td>...</td>\n",
       "      <td>...</td>\n",
       "      <td>...</td>\n",
       "      <td>...</td>\n",
       "      <td>...</td>\n",
       "      <td>...</td>\n",
       "      <td>...</td>\n",
       "      <td>...</td>\n",
       "      <td>...</td>\n",
       "      <td>...</td>\n",
       "      <td>...</td>\n",
       "    </tr>\n",
       "    <tr>\n",
       "      <th>10548</th>\n",
       "      <td>0.916523</td>\n",
       "      <td>1.000000</td>\n",
       "      <td>0.669535</td>\n",
       "      <td>0.333907</td>\n",
       "      <td>0.243546</td>\n",
       "      <td>0.160929</td>\n",
       "      <td>0.102410</td>\n",
       "      <td>0.084337</td>\n",
       "      <td>0.080895</td>\n",
       "      <td>0.087780</td>\n",
       "      <td>...</td>\n",
       "      <td>0.0</td>\n",
       "      <td>0.0</td>\n",
       "      <td>0.0</td>\n",
       "      <td>0.0</td>\n",
       "      <td>0.0</td>\n",
       "      <td>0.0</td>\n",
       "      <td>0.0</td>\n",
       "      <td>0.0</td>\n",
       "      <td>0.0</td>\n",
       "      <td>1.0</td>\n",
       "    </tr>\n",
       "    <tr>\n",
       "      <th>10549</th>\n",
       "      <td>0.996269</td>\n",
       "      <td>0.587313</td>\n",
       "      <td>0.501493</td>\n",
       "      <td>0.595522</td>\n",
       "      <td>0.700746</td>\n",
       "      <td>0.629851</td>\n",
       "      <td>0.587313</td>\n",
       "      <td>0.589552</td>\n",
       "      <td>0.607463</td>\n",
       "      <td>0.566418</td>\n",
       "      <td>...</td>\n",
       "      <td>0.0</td>\n",
       "      <td>0.0</td>\n",
       "      <td>0.0</td>\n",
       "      <td>0.0</td>\n",
       "      <td>0.0</td>\n",
       "      <td>0.0</td>\n",
       "      <td>0.0</td>\n",
       "      <td>0.0</td>\n",
       "      <td>0.0</td>\n",
       "      <td>1.0</td>\n",
       "    </tr>\n",
       "    <tr>\n",
       "      <th>10550</th>\n",
       "      <td>1.000000</td>\n",
       "      <td>0.835703</td>\n",
       "      <td>0.277251</td>\n",
       "      <td>0.063586</td>\n",
       "      <td>0.084913</td>\n",
       "      <td>0.149684</td>\n",
       "      <td>0.140600</td>\n",
       "      <td>0.130727</td>\n",
       "      <td>0.125987</td>\n",
       "      <td>0.122828</td>\n",
       "      <td>...</td>\n",
       "      <td>0.0</td>\n",
       "      <td>0.0</td>\n",
       "      <td>0.0</td>\n",
       "      <td>0.0</td>\n",
       "      <td>0.0</td>\n",
       "      <td>0.0</td>\n",
       "      <td>0.0</td>\n",
       "      <td>0.0</td>\n",
       "      <td>0.0</td>\n",
       "      <td>0.0</td>\n",
       "    </tr>\n",
       "    <tr>\n",
       "      <th>10551</th>\n",
       "      <td>0.982309</td>\n",
       "      <td>0.805400</td>\n",
       "      <td>0.687151</td>\n",
       "      <td>0.631285</td>\n",
       "      <td>0.554935</td>\n",
       "      <td>0.445065</td>\n",
       "      <td>0.384544</td>\n",
       "      <td>0.310987</td>\n",
       "      <td>0.283985</td>\n",
       "      <td>0.256052</td>\n",
       "      <td>...</td>\n",
       "      <td>0.0</td>\n",
       "      <td>0.0</td>\n",
       "      <td>0.0</td>\n",
       "      <td>0.0</td>\n",
       "      <td>0.0</td>\n",
       "      <td>0.0</td>\n",
       "      <td>0.0</td>\n",
       "      <td>0.0</td>\n",
       "      <td>0.0</td>\n",
       "      <td>1.0</td>\n",
       "    </tr>\n",
       "    <tr>\n",
       "      <th>10552</th>\n",
       "      <td>1.000000</td>\n",
       "      <td>0.649099</td>\n",
       "      <td>0.411608</td>\n",
       "      <td>0.191461</td>\n",
       "      <td>0.284857</td>\n",
       "      <td>0.292862</td>\n",
       "      <td>0.229486</td>\n",
       "      <td>0.177452</td>\n",
       "      <td>0.158105</td>\n",
       "      <td>0.158105</td>\n",
       "      <td>...</td>\n",
       "      <td>0.0</td>\n",
       "      <td>0.0</td>\n",
       "      <td>0.0</td>\n",
       "      <td>0.0</td>\n",
       "      <td>0.0</td>\n",
       "      <td>0.0</td>\n",
       "      <td>0.0</td>\n",
       "      <td>0.0</td>\n",
       "      <td>0.0</td>\n",
       "      <td>1.0</td>\n",
       "    </tr>\n",
       "  </tbody>\n",
       "</table>\n",
       "<p>10553 rows × 188 columns</p>\n",
       "</div>"
      ],
      "text/plain": [
       "              0         1         2         3         4         5         6  \\\n",
       "0      0.977343  0.651690  0.157834  0.043395  0.097926  0.159370  0.141321   \n",
       "1      0.948727  0.895979  0.554777  0.319439  0.191442  0.108078  0.055330   \n",
       "2      1.000000  0.788079  0.691317  0.631347  0.521707  0.444444  0.381898   \n",
       "3      1.000000  0.510154  0.129846  0.132923  0.189538  0.195692  0.193231   \n",
       "4      1.000000  0.716685  0.418721  0.136835  0.037156  0.011075  0.127188   \n",
       "...         ...       ...       ...       ...       ...       ...       ...   \n",
       "10548  0.916523  1.000000  0.669535  0.333907  0.243546  0.160929  0.102410   \n",
       "10549  0.996269  0.587313  0.501493  0.595522  0.700746  0.629851  0.587313   \n",
       "10550  1.000000  0.835703  0.277251  0.063586  0.084913  0.149684  0.140600   \n",
       "10551  0.982309  0.805400  0.687151  0.631285  0.554935  0.445065  0.384544   \n",
       "10552  1.000000  0.649099  0.411608  0.191461  0.284857  0.292862  0.229486   \n",
       "\n",
       "              7         8         9  ...  178  179  180  181  182  183  184  \\\n",
       "0      0.130952  0.132488  0.129032  ...  0.0  0.0  0.0  0.0  0.0  0.0  0.0   \n",
       "1      0.054592  0.046477  0.037256  ...  0.0  0.0  0.0  0.0  0.0  0.0  0.0   \n",
       "2      0.322296  0.231788  0.276674  ...  0.0  0.0  0.0  0.0  0.0  0.0  0.0   \n",
       "3      0.174154  0.195692  0.179692  ...  0.0  0.0  0.0  0.0  0.0  0.0  0.0   \n",
       "4      0.178992  0.232940  0.242229  ...  0.0  0.0  0.0  0.0  0.0  0.0  0.0   \n",
       "...         ...       ...       ...  ...  ...  ...  ...  ...  ...  ...  ...   \n",
       "10548  0.084337  0.080895  0.087780  ...  0.0  0.0  0.0  0.0  0.0  0.0  0.0   \n",
       "10549  0.589552  0.607463  0.566418  ...  0.0  0.0  0.0  0.0  0.0  0.0  0.0   \n",
       "10550  0.130727  0.125987  0.122828  ...  0.0  0.0  0.0  0.0  0.0  0.0  0.0   \n",
       "10551  0.310987  0.283985  0.256052  ...  0.0  0.0  0.0  0.0  0.0  0.0  0.0   \n",
       "10552  0.177452  0.158105  0.158105  ...  0.0  0.0  0.0  0.0  0.0  0.0  0.0   \n",
       "\n",
       "       185  186  class  \n",
       "0      0.0  0.0    0.0  \n",
       "1      0.0  0.0    1.0  \n",
       "2      0.0  0.0    1.0  \n",
       "3      0.0  0.0    1.0  \n",
       "4      0.0  0.0    1.0  \n",
       "...    ...  ...    ...  \n",
       "10548  0.0  0.0    1.0  \n",
       "10549  0.0  0.0    1.0  \n",
       "10550  0.0  0.0    0.0  \n",
       "10551  0.0  0.0    1.0  \n",
       "10552  0.0  0.0    1.0  \n",
       "\n",
       "[10553 rows x 188 columns]"
      ]
     },
     "execution_count": 39,
     "metadata": {},
     "output_type": "execute_result"
    }
   ],
   "source": [
    "df_ptbdb_abnormal = pd.read_csv(\"./data/ptbdb_abnormal.csv\", header=None)\n",
    "df_ptbdb_normal = pd.read_csv(\"./data/ptbdb_normal.csv\", header=None)\n",
    "\n",
    "df_ptbdb = pd.concat(\n",
    "    [\n",
    "        df_ptbdb_normal, \n",
    "        df_ptbdb_abnormal\n",
    "    ], \n",
    "    axis=0\n",
    ")\n",
    "\n",
    "df_ptbdb.rename(columns={187: 'class'}, inplace=True)\n",
    "\n",
    "df_ptbdb = df_ptbdb.sample(10553).reset_index(drop=True)\n",
    "\n",
    "df_ptbdb"
   ]
  },
  {
   "cell_type": "markdown",
   "metadata": {},
   "source": [
    "## 3. Limpeza"
   ]
  },
  {
   "cell_type": "code",
   "execution_count": 51,
   "metadata": {},
   "outputs": [
    {
     "data": {
      "text/plain": [
       "0"
      ]
     },
     "execution_count": 51,
     "metadata": {},
     "output_type": "execute_result"
    }
   ],
   "source": [
    "df_ptbdb.isnull().sum().sum()"
   ]
  },
  {
   "cell_type": "code",
   "execution_count": 49,
   "metadata": {},
   "outputs": [
    {
     "data": {
      "text/plain": [
       "0"
      ]
     },
     "execution_count": 49,
     "metadata": {},
     "output_type": "execute_result"
    }
   ],
   "source": [
    "(df_ptbdb.dtypes != np.float64).sum()"
   ]
  },
  {
   "cell_type": "markdown",
   "metadata": {},
   "source": [
    "## 4. Tratamento"
   ]
  },
  {
   "cell_type": "code",
   "execution_count": 71,
   "metadata": {},
   "outputs": [],
   "source": [
    "mm_scaler = MinMaxScaler()\n",
    "st_scaler = StandardScaler()"
   ]
  },
  {
   "cell_type": "code",
   "execution_count": 81,
   "metadata": {},
   "outputs": [],
   "source": [
    "data_st_scaler = st_scaler.fit_transform(df_ptbdb.values)\n",
    "\n",
    "data_mm_scaler = mm_scaler.fit_transform(data_st_scaler)"
   ]
  },
  {
   "cell_type": "code",
   "execution_count": 83,
   "metadata": {},
   "outputs": [],
   "source": [
    "df_ptbdb = pd.DataFrame(data_mm_scaler, columns=df_ptbdb.columns)"
   ]
  },
  {
   "cell_type": "markdown",
   "metadata": {},
   "source": [
    "## 5. AED"
   ]
  },
  {
   "cell_type": "markdown",
   "metadata": {},
   "source": [
    "### 5.1. Correlação com classe"
   ]
  },
  {
   "cell_type": "code",
   "execution_count": 90,
   "metadata": {},
   "outputs": [],
   "source": [
    "corr_class = df_ptbdb.corr()[\"class\"]"
   ]
  },
  {
   "cell_type": "code",
   "execution_count": 93,
   "metadata": {},
   "outputs": [
    {
     "data": {
      "text/plain": [
       "0        0.057929\n",
       "1        0.031560\n",
       "2        0.224139\n",
       "3        0.304418\n",
       "4        0.334695\n",
       "           ...   \n",
       "183      0.015709\n",
       "184      0.025979\n",
       "185      0.025819\n",
       "186           NaN\n",
       "class    1.000000\n",
       "Name: class, Length: 188, dtype: float64"
      ]
     },
     "execution_count": 93,
     "metadata": {},
     "output_type": "execute_result"
    }
   ],
   "source": [
    "corr_class = corr_class.apply(abs)\n",
    "\n",
    "corr_class"
   ]
  },
  {
   "cell_type": "markdown",
   "metadata": {},
   "source": [
    "#### Colunas com correlação nula com classe"
   ]
  },
  {
   "cell_type": "code",
   "execution_count": 116,
   "metadata": {},
   "outputs": [
    {
     "data": {
      "text/plain": [
       "Index([186], dtype='object')"
      ]
     },
     "execution_count": 116,
     "metadata": {},
     "output_type": "execute_result"
    }
   ],
   "source": [
    "corr_class[corr_class.isnull()].index"
   ]
  },
  {
   "cell_type": "code",
   "execution_count": 120,
   "metadata": {},
   "outputs": [],
   "source": [
    "cols_corr_class_null = set(corr_class[corr_class.isnull()].index.values)"
   ]
  },
  {
   "cell_type": "markdown",
   "metadata": {},
   "source": [
    "#### Colunas com correlação alta com classe"
   ]
  },
  {
   "cell_type": "code",
   "execution_count": 229,
   "metadata": {},
   "outputs": [],
   "source": [
    "def get_greater_corr_limiar(data: pd.Series, limiar: float) -> (pd.Series, float):\n",
    "    \"\"\"\n",
    "    data: lista de correlações\n",
    "    limiar: limite inferior de correlação para não ser considerado baixo\n",
    "\n",
    "    return: \n",
    "     - colunas com correlação acima do limiar\n",
    "     - porcentagem de colunas com correlação acima do limiar\n",
    "    \"\"\"\n",
    "\n",
    "    true_values =  data[data >= limiar]\n",
    "\n",
    "    pct = true_values.shape[0] / data.shape[0]\n",
    "\n",
    "    cols = true_values.index\n",
    "\n",
    "    return cols, pct"
   ]
  },
  {
   "cell_type": "code",
   "execution_count": 147,
   "metadata": {},
   "outputs": [
    {
     "data": {
      "text/plain": [
       "0.9361702127659575"
      ]
     },
     "execution_count": 147,
     "metadata": {},
     "output_type": "execute_result"
    }
   ],
   "source": [
    "cols_corr_class_greater_01, pct = get_greater_corr_limiar(corr_class, 0.01)\n",
    "\n",
    "pct"
   ]
  },
  {
   "cell_type": "code",
   "execution_count": 148,
   "metadata": {},
   "outputs": [
    {
     "data": {
      "text/plain": [
       "0.7606382978723404"
      ]
     },
     "execution_count": 148,
     "metadata": {},
     "output_type": "execute_result"
    }
   ],
   "source": [
    "cols_corr_class_greater_05, pct = get_greater_corr_limiar(corr_class, 0.05)\n",
    "\n",
    "pct"
   ]
  },
  {
   "cell_type": "code",
   "execution_count": 149,
   "metadata": {},
   "outputs": [
    {
     "data": {
      "text/plain": [
       "0.6223404255319149"
      ]
     },
     "execution_count": 149,
     "metadata": {},
     "output_type": "execute_result"
    }
   ],
   "source": [
    "cols_corr_class_greater_10, pct = get_greater_corr_limiar(corr_class, 0.10)\n",
    "\n",
    "pct"
   ]
  },
  {
   "cell_type": "code",
   "execution_count": 150,
   "metadata": {},
   "outputs": [
    {
     "data": {
      "text/plain": [
       "0.3723404255319149"
      ]
     },
     "execution_count": 150,
     "metadata": {},
     "output_type": "execute_result"
    }
   ],
   "source": [
    "cols_corr_class_greater_15, pct = get_greater_corr_limiar(corr_class, 0.15)\n",
    "\n",
    "pct"
   ]
  },
  {
   "cell_type": "code",
   "execution_count": 151,
   "metadata": {},
   "outputs": [
    {
     "data": {
      "text/plain": [
       "0.2127659574468085"
      ]
     },
     "execution_count": 151,
     "metadata": {},
     "output_type": "execute_result"
    }
   ],
   "source": [
    "cols_corr_class_greater_20, pct = get_greater_corr_limiar(corr_class, 0.20)\n",
    "\n",
    "pct"
   ]
  },
  {
   "cell_type": "code",
   "execution_count": 152,
   "metadata": {},
   "outputs": [
    {
     "data": {
      "text/plain": [
       "0.05319148936170213"
      ]
     },
     "execution_count": 152,
     "metadata": {},
     "output_type": "execute_result"
    }
   ],
   "source": [
    "cols_corr_class_greater_25, pct = get_greater_corr_limiar(corr_class, 0.25)\n",
    "\n",
    "pct"
   ]
  },
  {
   "cell_type": "markdown",
   "metadata": {},
   "source": [
    "#### Colunas com correlação alta entre si"
   ]
  },
  {
   "cell_type": "code",
   "execution_count": 190,
   "metadata": {},
   "outputs": [],
   "source": [
    "df_corr = df_ptbdb.corr()\n",
    "\n",
    "df_corr = df_corr.drop([186, \"class\"], axis=1)\n",
    "\n",
    "df_corr = df_corr.drop([186, \"class\"], axis=0)"
   ]
  },
  {
   "cell_type": "code",
   "execution_count": 191,
   "metadata": {},
   "outputs": [
    {
     "data": {
      "image/png": "[encoded data removed]",
      "text/plain": [
       "<Figure size 640x480 with 2 Axes>"
      ]
     },
     "metadata": {},
     "output_type": "display_data"
    }
   ],
   "source": [
    "sns.heatmap(df_corr, vmin=-1, vmax=1)\n",
    "\n",
    "plt.show()"
   ]
  },
  {
   "cell_type": "code",
   "execution_count": 192,
   "metadata": {},
   "outputs": [],
   "source": [
    "df_corr = df_corr.abs()"
   ]
  },
  {
   "cell_type": "code",
   "execution_count": 257,
   "metadata": {},
   "outputs": [],
   "source": [
    "def get_pair_high_corr(data: pd.DataFrame, limiar: float):\n",
    "    pair_values = defaultdict(set)\n",
    "\n",
    "    for i in range(data.shape[0]):\n",
    "        for j in range(data.shape[1]):\n",
    "            key, value = min([i, j]), max([i, j])\n",
    "\n",
    "            if i == j:\n",
    "                continue\n",
    "            \n",
    "            if data.iloc[i, j] >= limiar:\n",
    "                pair_values[key].add(value)\n",
    "    \n",
    "    return pair_values"
   ]
  },
  {
   "cell_type": "code",
   "execution_count": 258,
   "metadata": {},
   "outputs": [],
   "source": [
    "pair_values = get_pair_high_corr(df_corr, 0.90)"
   ]
  },
  {
   "cell_type": "code",
   "execution_count": 259,
   "metadata": {},
   "outputs": [
    {
     "data": {
      "text/plain": [
       "defaultdict(set,\n",
       "            {5: {6},\n",
       "             6: {7, 8},\n",
       "             7: {8, 9, 10, 11},\n",
       "             8: {9, 10, 11, 12, 13, 14, 15},\n",
       "             9: {10, 11, 12, 13, 14, 15, 16, 17, 18},\n",
       "             10: {11, 12, 13, 14, 15, 16, 17, 18, 19},\n",
       "             11: {12, 13, 14, 15, 16, 17, 18, 19},\n",
       "             12: {13, 14, 15, 16, 17, 18, 19, 20},\n",
       "             13: {14, 15, 16, 17, 18, 19, 20},\n",
       "             14: {15, 16, 17, 18, 19, 20},\n",
       "             15: {16, 17, 18, 19, 20},\n",
       "             16: {17, 18, 19, 20},\n",
       "             17: {18, 19, 20, 22},\n",
       "             18: {19, 20, 21, 22, 23, 24},\n",
       "             19: {20, 21, 22, 23, 24},\n",
       "             20: {21, 22, 23, 24},\n",
       "             21: {22, 23, 24},\n",
       "             22: {23, 24, 25, 26},\n",
       "             23: {24, 25, 26, 27},\n",
       "             24: {25, 26, 27, 28, 29},\n",
       "             25: {26, 27, 28, 29},\n",
       "             26: {27, 28, 29, 30},\n",
       "             27: {28, 29, 30, 31, 32},\n",
       "             28: {29, 30, 31, 32, 33},\n",
       "             29: {30, 31, 32, 33},\n",
       "             30: {31, 32, 33, 34},\n",
       "             31: {32, 33, 34, 35},\n",
       "             32: {33, 34, 35, 36},\n",
       "             33: {34, 35, 36},\n",
       "             34: {35, 36, 37},\n",
       "             35: {36, 37, 38},\n",
       "             36: {37, 38, 39},\n",
       "             37: {38, 39, 40, 41},\n",
       "             38: {39, 40, 41, 42},\n",
       "             39: {40, 41, 42, 43, 44},\n",
       "             40: {41, 42, 43, 44, 45},\n",
       "             41: {42, 43, 44, 45, 46, 47},\n",
       "             42: {43, 44, 45, 46, 47, 48, 49},\n",
       "             43: {44, 45, 46, 47, 48, 49, 50, 51, 52, 53},\n",
       "             44: {45, 46, 47, 48, 49, 50, 51, 52, 53, 54},\n",
       "             45: {46, 47, 48, 49, 50, 51, 52, 53, 54, 55},\n",
       "             46: {47, 48, 49, 50, 51, 52, 53, 54},\n",
       "             47: {48, 49, 50, 51, 52, 53, 54},\n",
       "             48: {49, 50, 51, 52, 53, 54},\n",
       "             49: {50, 51, 52, 53, 54},\n",
       "             50: {51, 52, 53, 54, 55},\n",
       "             51: {52, 53, 54, 55},\n",
       "             52: {53, 54, 55},\n",
       "             53: {54, 55, 56},\n",
       "             54: {55, 56, 57},\n",
       "             55: {56, 57},\n",
       "             56: {57, 58},\n",
       "             57: {58, 59, 60},\n",
       "             58: {59, 60},\n",
       "             59: {60, 61},\n",
       "             60: {61, 62},\n",
       "             61: {62, 63},\n",
       "             62: {63, 64},\n",
       "             63: {64, 65},\n",
       "             64: {65, 66},\n",
       "             65: {66},\n",
       "             66: {67},\n",
       "             67: {68},\n",
       "             68: {69},\n",
       "             69: {70},\n",
       "             70: {71},\n",
       "             71: {72},\n",
       "             72: {73},\n",
       "             73: {74},\n",
       "             74: {75},\n",
       "             75: {76},\n",
       "             76: {77},\n",
       "             77: {78},\n",
       "             78: {79},\n",
       "             82: {83},\n",
       "             94: {95},\n",
       "             112: {113},\n",
       "             118: {119},\n",
       "             121: {122},\n",
       "             124: {125},\n",
       "             128: {129},\n",
       "             130: {131},\n",
       "             131: {132},\n",
       "             132: {133},\n",
       "             133: {134},\n",
       "             134: {135},\n",
       "             135: {136},\n",
       "             136: {137},\n",
       "             137: {138},\n",
       "             138: {139},\n",
       "             139: {140},\n",
       "             140: {141},\n",
       "             141: {142},\n",
       "             142: {143},\n",
       "             143: {144},\n",
       "             144: {145},\n",
       "             145: {146},\n",
       "             146: {147},\n",
       "             147: {148},\n",
       "             148: {149},\n",
       "             150: {151},\n",
       "             151: {152},\n",
       "             152: {153},\n",
       "             153: {154},\n",
       "             154: {155},\n",
       "             155: {156},\n",
       "             156: {157},\n",
       "             157: {158},\n",
       "             158: {159},\n",
       "             159: {160, 161},\n",
       "             160: {161, 162},\n",
       "             161: {162},\n",
       "             162: {163, 164},\n",
       "             163: {164, 165},\n",
       "             164: {165, 166, 167},\n",
       "             165: {166, 167, 168},\n",
       "             166: {167, 168, 169},\n",
       "             167: {168, 169},\n",
       "             168: {169},\n",
       "             169: {170},\n",
       "             172: {173},\n",
       "             173: {174},\n",
       "             175: {176},\n",
       "             177: {178},\n",
       "             178: {179, 180},\n",
       "             179: {180},\n",
       "             181: {182},\n",
       "             184: {185}})"
      ]
     },
     "execution_count": 259,
     "metadata": {},
     "output_type": "execute_result"
    }
   ],
   "source": [
    "pair_values"
   ]
  }
 ],
 "metadata": {
  "kernelspec": {
   "display_name": "base",
   "language": "python",
   "name": "python3"
  },
  "language_info": {
   "codemirror_mode": {
    "name": "ipython",
    "version": 3
   },
   "file_extension": ".py",
   "mimetype": "text/x-python",
   "name": "python",
   "nbconvert_exporter": "python",
   "pygments_lexer": "ipython3",
   "version": "3.9.13"
  }
 },
 "nbformat": 4,
 "nbformat_minor": 2
}
